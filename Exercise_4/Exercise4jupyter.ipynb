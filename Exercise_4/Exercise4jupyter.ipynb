{
 "cells": [
  {
   "cell_type": "code",
   "execution_count": null,
   "id": "b4443085",
   "metadata": {},
   "outputs": [],
   "source": [
    "q1"
   ]
  },
  {
   "cell_type": "markdown",
   "id": "093781af",
   "metadata": {},
   "source": [
    "a. Encapsulation\n",
    "Encapsulation is the practice of keeping data and the methods that operate on that data together in one unit while restricting direct access to some details. This helps maintain control and prevent unintended changes.\n",
    "b. Client\n",
    "A client is a system, program, or device that requests and uses services or resources from another system, often called a server.\n",
    "c. Data Attributes\n",
    "Data attributes are pieces of information associated with an object. They store values that define the state or characteristics of that object.\n",
    "d. Instance\n",
    "An instance is a specific, individual occurrence of something created based on a defined model or template."
   ]
  },
  {
   "cell_type": "markdown",
   "id": "4523a31d",
   "metadata": {},
   "source": [
    "q2"
   ]
  },
  {
   "cell_type": "code",
   "execution_count": null,
   "id": "0a58168a",
   "metadata": {},
   "outputs": [],
   "source": [
    "class NumberStats:\n",
    "    def __init__(self):\n",
    "        # Using a list to store numbers instead of a single integer\n",
    "        self.numbers = []\n",
    "\n",
    "    def add_number(self, number: int):\n",
    "        self.numbers.append(number)\n",
    "\n",
    "    def count_numbers(self):\n",
    "        return len(self.numbers)\n",
    "    \n",
    "    def get_sum(self):\n",
    "        return sum(self.numbers)\n",
    "    \n",
    "    def average(self):\n",
    "        if self.count_numbers() == 0:\n",
    "            return 0\n",
    "        return self.get_sum() / self.count_numbers()\n",
    "\n",
    "if __name__ == \"__main__\":\n",
    "    # Part 1 test prints:\n",
    "    stats = NumberStats()\n",
    "    stats.add_number(3)\n",
    "    stats.add_number(5)\n",
    "    stats.add_number(1)\n",
    "    stats.add_number(2)\n",
    "    print(\"Numbers added:\", stats.count_numbers())\n",
    "    \n",
    "    # Part 2 test prints:\n",
    "    print(\"Sum of numbers:\", stats.get_sum())\n",
    "    print(\"Mean of numbers:\", stats.average())\n",
    "    \n",
    "    # Part 3 & 4: User input with even and odd number tracking\n",
    "    all_stats = NumberStats()\n",
    "    even_stats = NumberStats()\n",
    "    odd_stats = NumberStats()\n",
    "    \n",
    "    print(\"Please type in integer numbers:\")\n",
    "    while True:\n",
    "        number = int(input())\n",
    "        if number == -1:\n",
    "            break\n",
    "        all_stats.add_number(number)\n",
    "        if number % 2 == 0:\n",
    "            even_stats.add_number(number)\n",
    "        else:\n",
    "            odd_stats.add_number(number)\n",
    "    \n",
    "    print(\"Sum of numbers:\", all_stats.get_sum())\n",
    "    print(\"Mean of numbers:\", all_stats.average())\n",
    "    print(\"Sum of even numbers:\", even_stats.get_sum())\n",
    "    print(\"Sum of odd numbers:\", odd_stats.get_sum())\n"
   ]
  },
  {
   "cell_type": "markdown",
   "id": "cd889bcc",
   "metadata": {},
   "source": [
    "### Q3"
   ]
  },
  {
   "cell_type": "code",
   "execution_count": null,
   "id": "e2ff724d",
   "metadata": {},
   "outputs": [],
   "source": [
    "class Car:\n",
    "    def __init__(self, make: str, top_speed: int):\n",
    "        self.make = make\n",
    "        self.top_speed = top_speed\n",
    "\n",
    "    def __str__(self):\n",
    "        return f\"Car (brand: {self.make}, top speed: {self.top_speed})\"\n",
    "\n",
    "def fastest_car(cars: list) -> str:\n",
    "    return max(cars, key=lambda car: car.top_speed).make\n",
    "\n",
    "if __name__ == \"__main__\":  \n",
    "    car1 = Car(\"Saab\", 195)\n",
    "    car2 = Car(\"Lada\", 110)\n",
    "    car3 = Car(\"Ferrari\", 280) \n",
    "    car4 = Car(\"Trabant\", 85)\n",
    "\n",
    "    cars = [car1, car2, car3, car4]\n",
    "    print(fastest_car(cars))"
   ]
  },
  {
   "cell_type": "markdown",
   "id": "61c76c3c",
   "metadata": {},
   "source": [
    "### Q4"
   ]
  },
  {
   "cell_type": "code",
   "execution_count": null,
   "id": "2d8d2665",
   "metadata": {},
   "outputs": [],
   "source": [
    "class LunchCard:\n",
    "    def __init__(self, balance: float):\n",
    "        self.balance = balance\n",
    "    \n",
    "    def __str__(self):\n",
    "        return f\"The balance is {self.balance:.1f} euros\"\n",
    "    \n",
    "    def eat_ordinary(self):\n",
    "        if self.balance >= 2.95:\n",
    "            self.balance -= 2.95\n",
    "\n",
    "    def eat_luxury(self):\n",
    "        if self.balance >= 5.90:\n",
    "            self.balance -= 5.90\n",
    "    \n",
    "    def deposit_money(self, amount: float):\n",
    "        if amount < 0:\n",
    "            raise ValueError(\"You cannot deposit an amount of money less than zero\")\n",
    "        self.balance += amount\n",
    "    \n",
    "    def subtract_from_balance(self, amount: float) -> bool:\n",
    "        if self.balance >= amount:\n",
    "            self.balance -= amount\n",
    "            return True\n",
    "        return False\n",
    "\n",
    "if __name__ == \"__main__\":\n",
    "    peter_card = LunchCard(20)\n",
    "    grace_card = LunchCard(30)\n",
    "\n",
    "    print(f\"Peter: {peter_card}\")\n",
    "    print(f\"Grace: {grace_card}\")\n",
    "\n",
    "    peter_card.eat_luxury()\n",
    "    grace_card.eat_ordinary()\n",
    "    print(f\"Peter: {peter_card}\")\n",
    "    print(f\"Grace: {grace_card}\")\n",
    "\n",
    "    peter_card.deposit_money(20)\n",
    "    grace_card.eat_luxury()\n",
    "    print(f\"Peter: {peter_card}\")\n",
    "    print(f\"Grace: {grace_card}\")\n",
    "\n",
    "    peter_card.eat_ordinary()\n",
    "    peter_card.eat_ordinary()\n",
    "    grace_card.deposit_money(50)\n",
    "    print(f\"Peter: {peter_card}\")\n",
    "    print(f\"Grace: {grace_card}\")"
   ]
  },
  {
   "cell_type": "markdown",
   "id": "5071bac8",
   "metadata": {},
   "source": []
  },
  {
   "cell_type": "markdown",
   "id": "73e53fad",
   "metadata": {},
   "source": [
    "### Q5 LunchSystem folder"
   ]
  },
  {
   "cell_type": "markdown",
   "id": "3fcb1f81",
   "metadata": {},
   "source": [
    "### Q6"
   ]
  },
  {
   "cell_type": "code",
   "execution_count": null,
   "id": "52576474",
   "metadata": {},
   "outputs": [],
   "source": [
    "class Present:\n",
    "    def __init__(self, name: str, weight: int):\n",
    "        self.name = name\n",
    "        self.weight = weight\n",
    "    \n",
    "    def __str__(self):\n",
    "        return f\"{self.name} ({self.weight} g)\"\n",
    "    \n",
    "book = Present(\"Ta-Nehisi Coates: The Water Dancer\", 200)\n",
    "print(\"The name of the present:\", book.name)\n",
    "print(\"The weight of the present:\", book.weight)\n",
    "print(\"Present:\", book)"
   ]
  },
  {
   "cell_type": "markdown",
   "id": "9a05a9ea",
   "metadata": {},
   "source": [
    "### Q6_Part2"
   ]
  },
  {
   "cell_type": "code",
   "execution_count": null,
   "id": "245a9205",
   "metadata": {},
   "outputs": [],
   "source": [
    "class Box:\n",
    "    def __init__(self):\n",
    "        self.presents = []\n",
    "    \n",
    "    def add_present(self, present):\n",
    "        self.presents.append(present)\n",
    "    \n",
    "    def total_weight(self):\n",
    "        return sum(present.weight for present in self.presents)\n",
    "\n",
    "book = Present(\"Ta-Nehisi Coates: The Water Dancer\", 200)\n",
    "box = Box()\n",
    "box.add_present(book)\n",
    "print(box.total_weight())  \n",
    "\n",
    "cd = Present(\"Pink Floyd: Dark Side of the Moon\", 50)\n",
    "box.add_present(cd)\n",
    "print(box.total_weight())"
   ]
  },
  {
   "cell_type": "markdown",
   "id": "9587fe4f",
   "metadata": {},
   "source": [
    "### Q7"
   ]
  },
  {
   "cell_type": "code",
   "execution_count": null,
   "id": "e6644b04",
   "metadata": {},
   "outputs": [],
   "source": [
    "class Person:\n",
    "    def __init__(self, name, height):\n",
    "        self.name = name\n",
    "        self.height = height\n",
    "    \n",
    "    def __str__(self):\n",
    "        return f\"{self.name} ({self.height} cm)\"\n",
    "\n",
    "class Room:\n",
    "    def __init__(self):\n",
    "        self.persons = []\n",
    "    \n",
    "    def add(self, person):\n",
    "        self.persons.append(person)\n",
    "    \n",
    "    def is_empty(self):\n",
    "        return len(self.persons) == 0\n",
    "    \n",
    "    def print_contents(self):\n",
    "        if self.persons:\n",
    "            total_height = sum(person.height for person in self.persons)\n",
    "            print(f\"There are {len(self.persons)} persons in the room, and their combined height is {total_height} cm.\")\n",
    "            for person in self.persons:\n",
    "                print(person)\n",
    "    \n",
    "    def shortest(self):\n",
    "        if self.is_empty():\n",
    "            return None\n",
    "        return min(self.persons, key=lambda person: person.height)\n",
    "\n",
    "room = Room()\n",
    "room.add(Person(\"Lea\", 183))\n",
    "room.add(Person(\"Kenya\", 172))\n",
    "room.add(Person(\"Ally\", 166))\n",
    "room.add(Person(\"Nina\", 162))\n",
    "room.add(Person(\"Dorothy\", 175))\n",
    "\n",
    "print(\"Is the room empty?\", room.is_empty())\n",
    "print(\"Shortest:\", room.shortest())\n",
    "room.print_contents()"
   ]
  },
  {
   "cell_type": "markdown",
   "id": "71a86c30",
   "metadata": {},
   "source": [
    "### Q8"
   ]
  },
  {
   "cell_type": "code",
   "execution_count": null,
   "id": "57bf715b",
   "metadata": {},
   "outputs": [],
   "source": [
    "class Recording:\n",
    "    def __init__(self, length: int):\n",
    "        self.__length = length\n",
    "\n",
    "    @property\n",
    "    def length(self):\n",
    "        return self.__length\n",
    "\n",
    "    @length.setter\n",
    "    def length(self, new_length: int):\n",
    "        self.__length = new_length\n",
    "\n",
    "the_wall = Recording(43)\n",
    "print(the_wall.length)\n",
    "\n",
    "the_wall.length = 44\n",
    "print(the_wall.length)"
   ]
  },
  {
   "cell_type": "markdown",
   "id": "a9994763",
   "metadata": {},
   "source": [
    "### Q9"
   ]
  },
  {
   "cell_type": "code",
   "execution_count": null,
   "id": "72dd3549",
   "metadata": {},
   "outputs": [],
   "source": [
    "class WeatherStation:\n",
    "    def __init__(self, name: str):\n",
    "        self.__name = name\n",
    "        self.__observations = []\n",
    "\n",
    "    def add_observation(self, observation: str):\n",
    "        self.__observations.append(observation)\n",
    "\n",
    "    def latest_observation(self):\n",
    "        if self.__observations:\n",
    "            return self.__observations[-1]\n",
    "        return \"\"\n",
    "\n",
    "    def number_of_observations(self):\n",
    "        return len(self.__observations)\n",
    "\n",
    "    def __str__(self):\n",
    "        return f\"{self.__name}, {self.number_of_observations()} observations\"\n",
    "\n",
    "station = WeatherStation(\"Houston\")\n",
    "station.add_observation(\"Rain 10mm\")\n",
    "station.add_observation(\"Sunny\")\n",
    "print(station.latest_observation())\n",
    "station.add_observation(\"Thunderstorm\")\n",
    "print(station.latest_observation())\n",
    "print(station.number_of_observations())\n",
    "print(station)"
   ]
  },
  {
   "cell_type": "markdown",
   "id": "f869f061",
   "metadata": {},
   "source": [
    "q10"
   ]
  },
  {
   "cell_type": "code",
   "execution_count": null,
   "id": "d2f03408",
   "metadata": {},
   "outputs": [],
   "source": [
    "class BankAccount:\n",
    "    def __init__(self, owner: str, account_number: str, balance: float):\n",
    "        # private attributes\n",
    "        self.__owner = owner\n",
    "        self.__account_number = account_number\n",
    "        self.__balance = balance\n",
    "\n",
    "    def deposit(self, amount: float):\n",
    "        # deposit amount and apply service charge\n",
    "        if amount > 0:\n",
    "            self.__balance += amount\n",
    "            self.__service_charge()\n",
    "\n",
    "    def withdraw(self, amount: float):\n",
    "        # withdraw amount and apply service charge\n",
    "        if amount > 0 and amount <= self.__balance:\n",
    "            self.__balance -= amount\n",
    "            self.__service_charge()\n",
    "\n",
    "    def __service_charge(self):\n",
    "        # private method to apply service charge of 1%\n",
    "        service_charge = self.__balance * 0.01\n",
    "        self.__balance -= service_charge\n",
    "\n",
    "    @property\n",
    "    def balance(self):\n",
    "        # getter method for balance\n",
    "        return self.__balance\n",
    "    \n",
    "    # running the code\n",
    "account = BankAccount(\"Titon tili\", \"12345-6789\", 1000)\n",
    "account.withdraw(100)\n",
    "print(account.balance)  # 891.0\n",
    "account.deposit(100)\n",
    "print(account.balance)  # 981.09\n"
   ]
  }
 ],
 "metadata": {
  "language_info": {
   "name": "python"
  }
 },
 "nbformat": 4,
 "nbformat_minor": 5
}
