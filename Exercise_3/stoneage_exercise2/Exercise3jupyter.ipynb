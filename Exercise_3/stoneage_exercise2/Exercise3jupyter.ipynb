{
 "cells": [
  {
   "cell_type": "markdown",
   "metadata": {},
   "source": [
    "q1"
   ]
  },
  {
   "cell_type": "code",
   "execution_count": null,
   "metadata": {},
   "outputs": [],
   "source": [
    "from item import Item\n",
    "from player import Player\n",
    "from world import World\n",
    "from grid import Grid"
   ]
  },
  {
   "cell_type": "code",
   "execution_count": null,
   "metadata": {},
   "outputs": [],
   "source": [
    "# Create a grid with dimensions 5x5\n",
    "world_grid = Grid(5, 5)\n",
    "\n",
    "# Create some items\n",
    "sword = Item(\"Sword\", 10)\n",
    "shield = Item(\"Shield\", 15)\n",
    "health_potion = Item(\"Health Potion\", 5)\n",
    "\n",
    "# Place items on the grid\n",
    "world_grid.place_item(1, 1, sword)\n",
    "world_grid.place_item(3, 3, shield)\n",
    "world_grid.place_item(2, 2, health_potion)\n",
    "\n",
    "# Create a player\n",
    "player = Player(\"Player1\", 0, 0)\n",
    "\n",
    "# Display the grid\n",
    "print(\"World Grid:\")\n",
    "print(world_grid)\n",
    "\n",
    "# Test movement\n",
    "player.move(1, 1, world_grid)  # Move to (1, 1)\n",
    "player.pick_up_item(world_grid)  # Pick up the sword\n",
    "\n",
    "player.move(2, 2, world_grid)  # Move to (2, 2)\n",
    "player.pick_up_item(world_grid)  # Pick up the health potion\n",
    "\n",
    "# Display the final state of the player and grid\n",
    "print(\"\\nFinal State:\")\n",
    "print(player)\n",
    "print(\"\\nWorld Grid:\")\n",
    "print(world_grid)\n"
   ]
  }
 ],
 "metadata": {
  "kernelspec": {
   "display_name": "Python 3",
   "language": "python",
   "name": "python3"
  },
  "language_info": {
   "codemirror_mode": {
    "name": "ipython",
    "version": 3
   },
   "file_extension": ".py",
   "mimetype": "text/x-python",
   "name": "python",
   "nbconvert_exporter": "python",
   "pygments_lexer": "ipython3",
   "version": "3.11.0"
  }
 },
 "nbformat": 4,
 "nbformat_minor": 2
}
